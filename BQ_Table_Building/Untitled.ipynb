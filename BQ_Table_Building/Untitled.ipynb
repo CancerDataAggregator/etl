{
 "cells": [
  {
   "cell_type": "code",
   "execution_count": 52,
   "metadata": {},
   "outputs": [
    {
     "ename": "ModuleNotFoundError",
     "evalue": "No module named 'CDA_ETL_functions.CDA_ETA_Utilities'",
     "output_type": "error",
     "traceback": [
      "\u001b[0;31m---------------------------------------------------------------------------\u001b[0m",
      "\u001b[0;31mModuleNotFoundError\u001b[0m                       Traceback (most recent call last)",
      "\u001b[0;32m<ipython-input-52-b0f011687e14>\u001b[0m in \u001b[0;36m<module>\u001b[0;34m\u001b[0m\n\u001b[0;32m----> 1\u001b[0;31m \u001b[0;32mfrom\u001b[0m \u001b[0mCDA_ETL_functions\u001b[0m\u001b[0;34m.\u001b[0m\u001b[0mCDA_ETA_Utilities\u001b[0m \u001b[0;32mimport\u001b[0m \u001b[0;34m*\u001b[0m\u001b[0;34m\u001b[0m\u001b[0;34m\u001b[0m\u001b[0m\n\u001b[0m",
      "\u001b[0;31mModuleNotFoundError\u001b[0m: No module named 'CDA_ETL_functions.CDA_ETA_Utilities'"
     ]
    }
   ],
   "source": [
    "from CDA_ETL_functions.CDA_ETA_Utilities import *"
   ]
  },
  {
   "cell_type": "code",
   "execution_count": 45,
   "metadata": {},
   "outputs": [
    {
     "data": {
      "text/plain": [
       "['/Users/donovan.ruth/Documents/CDA Project/NextGenETL_master/BQ_Table_Building',\n",
       " '/Users/donovan.ruth/opt/anaconda3/lib/python38.zip',\n",
       " '/Users/donovan.ruth/opt/anaconda3/lib/python3.8',\n",
       " '/Users/donovan.ruth/opt/anaconda3/lib/python3.8/lib-dynload',\n",
       " '',\n",
       " '/Users/donovan.ruth/opt/anaconda3/lib/python3.8/site-packages',\n",
       " '/Users/donovan.ruth/opt/anaconda3/lib/python3.8/site-packages/aeosa',\n",
       " '/Users/donovan.ruth/opt/anaconda3/lib/python3.8/site-packages/IPython/extensions',\n",
       " '/Users/donovan.ruth/.ipython']"
      ]
     },
     "execution_count": 45,
     "metadata": {},
     "output_type": "execute_result"
    }
   ],
   "source": [
    "import sys\n",
    "sys.path"
   ]
  },
  {
   "cell_type": "code",
   "execution_count": 46,
   "metadata": {},
   "outputs": [],
   "source": [
    "sys.path.append('/Users/donovan.ruth/Documents/CDA Project/')"
   ]
  },
  {
   "cell_type": "code",
   "execution_count": 47,
   "metadata": {},
   "outputs": [
    {
     "data": {
      "text/plain": [
       "['/Users/donovan.ruth/Documents/CDA Project/NextGenETL_master/BQ_Table_Building',\n",
       " '/Users/donovan.ruth/opt/anaconda3/lib/python38.zip',\n",
       " '/Users/donovan.ruth/opt/anaconda3/lib/python3.8',\n",
       " '/Users/donovan.ruth/opt/anaconda3/lib/python3.8/lib-dynload',\n",
       " '',\n",
       " '/Users/donovan.ruth/opt/anaconda3/lib/python3.8/site-packages',\n",
       " '/Users/donovan.ruth/opt/anaconda3/lib/python3.8/site-packages/aeosa',\n",
       " '/Users/donovan.ruth/opt/anaconda3/lib/python3.8/site-packages/IPython/extensions',\n",
       " '/Users/donovan.ruth/.ipython',\n",
       " '/Users/donovan.ruth/Documents/CDA Project/']"
      ]
     },
     "execution_count": 47,
     "metadata": {},
     "output_type": "execute_result"
    }
   ],
   "source": [
    "sys.path"
   ]
  },
  {
   "cell_type": "code",
   "execution_count": 48,
   "metadata": {},
   "outputs": [
    {
     "ename": "ModuleNotFoundError",
     "evalue": "No module named 'CDA_ETL_functions.CDA_ETA_Utilities'",
     "output_type": "error",
     "traceback": [
      "\u001b[0;31m---------------------------------------------------------------------------\u001b[0m",
      "\u001b[0;31mModuleNotFoundError\u001b[0m                       Traceback (most recent call last)",
      "\u001b[0;32m<ipython-input-48-382e0c3187ac>\u001b[0m in \u001b[0;36m<module>\u001b[0;34m\u001b[0m\n\u001b[0;32m----> 1\u001b[0;31m \u001b[0;32mfrom\u001b[0m \u001b[0mCDA_ETL_functions\u001b[0m\u001b[0;34m.\u001b[0m\u001b[0mCDA_ETA_Utilities\u001b[0m\u001b[0;34m.\u001b[0m\u001b[0mpy\u001b[0m \u001b[0;32mimport\u001b[0m \u001b[0;34m*\u001b[0m\u001b[0;34m\u001b[0m\u001b[0;34m\u001b[0m\u001b[0m\n\u001b[0m",
      "\u001b[0;31mModuleNotFoundError\u001b[0m: No module named 'CDA_ETL_functions.CDA_ETA_Utilities'"
     ]
    }
   ],
   "source": [
    "from CDA_ETL_functions.CDA_ETA_Utilities.py import *"
   ]
  },
  {
   "cell_type": "code",
   "execution_count": 49,
   "metadata": {},
   "outputs": [
    {
     "data": {
      "text/plain": [
       "['/Users/donovan.ruth/Documents/CDA Project/NextGenETL_master/BQ_Table_Building',\n",
       " '/Users/donovan.ruth/opt/anaconda3/lib/python38.zip',\n",
       " '/Users/donovan.ruth/opt/anaconda3/lib/python3.8',\n",
       " '/Users/donovan.ruth/opt/anaconda3/lib/python3.8/lib-dynload',\n",
       " '',\n",
       " '/Users/donovan.ruth/opt/anaconda3/lib/python3.8/site-packages',\n",
       " '/Users/donovan.ruth/opt/anaconda3/lib/python3.8/site-packages/aeosa',\n",
       " '/Users/donovan.ruth/opt/anaconda3/lib/python3.8/site-packages/IPython/extensions',\n",
       " '/Users/donovan.ruth/.ipython',\n",
       " '/Users/donovan.ruth/Documents/CDA Project/',\n",
       " '/Users/donovan.ruth/Documents/CDA Project/CDA_ETL_functions',\n",
       " '/Users/donovan.ruth/Documents/CDA Project/NextGenETL']"
      ]
     },
     "execution_count": 49,
     "metadata": {},
     "output_type": "execute_result"
    }
   ],
   "source": [
    "sys.path.append('/Users/donovan.ruth/Documents/CDA Project/CDA_ETL_functions')\n",
    "sys.path.append('/Users/donovan.ruth/Documents/CDA Project/NextGenETL')\n",
    "sys.path"
   ]
  },
  {
   "cell_type": "code",
   "execution_count": 51,
   "metadata": {},
   "outputs": [],
   "source": [
    "from CDA_ETL_functions import *"
   ]
  },
  {
   "cell_type": "code",
   "execution_count": null,
   "metadata": {},
   "outputs": [],
   "source": []
  }
 ],
 "metadata": {
  "kernelspec": {
   "display_name": "Python 3",
   "language": "python",
   "name": "python3"
  },
  "language_info": {
   "codemirror_mode": {
    "name": "ipython",
    "version": 3
   },
   "file_extension": ".py",
   "mimetype": "text/x-python",
   "name": "python",
   "nbconvert_exporter": "python",
   "pygments_lexer": "ipython3",
   "version": "3.8.3"
  }
 },
 "nbformat": 4,
 "nbformat_minor": 4
}
